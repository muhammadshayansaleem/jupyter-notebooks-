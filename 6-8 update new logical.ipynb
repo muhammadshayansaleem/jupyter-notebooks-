{
 "cells": [
  {
   "cell_type": "code",
   "execution_count": 1,
   "id": "c318c9e4-da90-40a4-bc13-93a4fe8c2c8a",
   "metadata": {},
   "outputs": [
    {
     "name": "stdout",
     "output_type": "stream",
     "text": [
      "Hello World\n"
     ]
    }
   ],
   "source": [
    "print(\"Hello World\")"
   ]
  },
  {
   "cell_type": "code",
   "execution_count": 2,
   "id": "a8a805cf-70df-4b34-b1b0-e644837717f1",
   "metadata": {},
   "outputs": [
    {
     "name": "stdout",
     "output_type": "stream",
     "text": [
      "Welcome to this program Amjad Aziz\n"
     ]
    }
   ],
   "source": [
    "name = \"Amjad Aziz\"\n",
    "welcome = \"Welcome to this program\"\n",
    "\n",
    "print(welcome, name)"
   ]
  },
  {
   "cell_type": "code",
   "execution_count": 3,
   "id": "4b2a556a-bda1-4bcd-a152-74add5fdb61c",
   "metadata": {},
   "outputs": [
    {
     "name": "stdout",
     "output_type": "stream",
     "text": [
      "Hello,  Amjad Aziz Aziz Ahmed karachi Welcome to this program..\n"
     ]
    }
   ],
   "source": [
    "name = \"Amjad Aziz\"\n",
    "city = \"karachi\"\n",
    "father = \"Aziz Ahmed\"\n",
    "\n",
    "print(\"Hello, \", name, father, city, \"Welcome to this program..\")"
   ]
  },
  {
   "cell_type": "code",
   "execution_count": 4,
   "id": "f75694a0-ae35-4b6a-8fdc-a05e882b5508",
   "metadata": {},
   "outputs": [
    {
     "name": "stdout",
     "output_type": "stream",
     "text": [
      "Amjad Aziz Amjad Aziz Amjad Aziz\n"
     ]
    }
   ],
   "source": [
    "name = \"Amjad Aziz\"\n",
    "city = \"karachi\"\n",
    "father = \"Aziz Ahmed\"\n",
    "\n",
    "print(name, name, name)"
   ]
  },
  {
   "cell_type": "code",
   "execution_count": 5,
   "id": "6c0a3994-c807-4cf8-8c76-fb4129d62266",
   "metadata": {},
   "outputs": [
    {
     "ename": "KeyboardInterrupt",
     "evalue": "Interrupted by user",
     "output_type": "error",
     "traceback": [
      "\u001b[1;31m---------------------------------------------------------------------------\u001b[0m",
      "\u001b[1;31mKeyboardInterrupt\u001b[0m                         Traceback (most recent call last)",
      "Cell \u001b[1;32mIn[5], line 1\u001b[0m\n\u001b[1;32m----> 1\u001b[0m name \u001b[38;5;241m=\u001b[39m \u001b[38;5;28minput\u001b[39m(\u001b[38;5;124m\"\u001b[39m\u001b[38;5;124mGive me your name: \u001b[39m\u001b[38;5;124m\"\u001b[39m)\n\u001b[0;32m      2\u001b[0m city \u001b[38;5;241m=\u001b[39m \u001b[38;5;28minput\u001b[39m(\u001b[38;5;124m\"\u001b[39m\u001b[38;5;124mGive me your City: \u001b[39m\u001b[38;5;124m\"\u001b[39m)\n\u001b[0;32m      3\u001b[0m father \u001b[38;5;241m=\u001b[39m \u001b[38;5;28minput\u001b[39m(\u001b[38;5;124m\"\u001b[39m\u001b[38;5;124mGive me your father name: \u001b[39m\u001b[38;5;124m\"\u001b[39m)\n",
      "File \u001b[1;32m~\\anaconda3\\Lib\\site-packages\\ipykernel\\kernelbase.py:1262\u001b[0m, in \u001b[0;36mKernel.raw_input\u001b[1;34m(self, prompt)\u001b[0m\n\u001b[0;32m   1260\u001b[0m     msg \u001b[38;5;241m=\u001b[39m \u001b[38;5;124m\"\u001b[39m\u001b[38;5;124mraw_input was called, but this frontend does not support input requests.\u001b[39m\u001b[38;5;124m\"\u001b[39m\n\u001b[0;32m   1261\u001b[0m     \u001b[38;5;28;01mraise\u001b[39;00m StdinNotImplementedError(msg)\n\u001b[1;32m-> 1262\u001b[0m \u001b[38;5;28;01mreturn\u001b[39;00m \u001b[38;5;28mself\u001b[39m\u001b[38;5;241m.\u001b[39m_input_request(\n\u001b[0;32m   1263\u001b[0m     \u001b[38;5;28mstr\u001b[39m(prompt),\n\u001b[0;32m   1264\u001b[0m     \u001b[38;5;28mself\u001b[39m\u001b[38;5;241m.\u001b[39m_parent_ident[\u001b[38;5;124m\"\u001b[39m\u001b[38;5;124mshell\u001b[39m\u001b[38;5;124m\"\u001b[39m],\n\u001b[0;32m   1265\u001b[0m     \u001b[38;5;28mself\u001b[39m\u001b[38;5;241m.\u001b[39mget_parent(\u001b[38;5;124m\"\u001b[39m\u001b[38;5;124mshell\u001b[39m\u001b[38;5;124m\"\u001b[39m),\n\u001b[0;32m   1266\u001b[0m     password\u001b[38;5;241m=\u001b[39m\u001b[38;5;28;01mFalse\u001b[39;00m,\n\u001b[0;32m   1267\u001b[0m )\n",
      "File \u001b[1;32m~\\anaconda3\\Lib\\site-packages\\ipykernel\\kernelbase.py:1305\u001b[0m, in \u001b[0;36mKernel._input_request\u001b[1;34m(self, prompt, ident, parent, password)\u001b[0m\n\u001b[0;32m   1302\u001b[0m \u001b[38;5;28;01mexcept\u001b[39;00m \u001b[38;5;167;01mKeyboardInterrupt\u001b[39;00m:\n\u001b[0;32m   1303\u001b[0m     \u001b[38;5;66;03m# re-raise KeyboardInterrupt, to truncate traceback\u001b[39;00m\n\u001b[0;32m   1304\u001b[0m     msg \u001b[38;5;241m=\u001b[39m \u001b[38;5;124m\"\u001b[39m\u001b[38;5;124mInterrupted by user\u001b[39m\u001b[38;5;124m\"\u001b[39m\n\u001b[1;32m-> 1305\u001b[0m     \u001b[38;5;28;01mraise\u001b[39;00m \u001b[38;5;167;01mKeyboardInterrupt\u001b[39;00m(msg) \u001b[38;5;28;01mfrom\u001b[39;00m \u001b[38;5;28;01mNone\u001b[39;00m\n\u001b[0;32m   1306\u001b[0m \u001b[38;5;28;01mexcept\u001b[39;00m \u001b[38;5;167;01mException\u001b[39;00m:\n\u001b[0;32m   1307\u001b[0m     \u001b[38;5;28mself\u001b[39m\u001b[38;5;241m.\u001b[39mlog\u001b[38;5;241m.\u001b[39mwarning(\u001b[38;5;124m\"\u001b[39m\u001b[38;5;124mInvalid Message:\u001b[39m\u001b[38;5;124m\"\u001b[39m, exc_info\u001b[38;5;241m=\u001b[39m\u001b[38;5;28;01mTrue\u001b[39;00m)\n",
      "\u001b[1;31mKeyboardInterrupt\u001b[0m: Interrupted by user"
     ]
    }
   ],
   "source": [
    "name = input(\"Give me your name: \")\n",
    "city = input(\"Give me your City: \")\n",
    "father = input(\"Give me your father name: \")\n",
    "\n",
    "print(\"Hello Mr.\", name, \"your father name is\", father, \"your city is\",city, \"Welcome to this program..\")"
   ]
  },
  {
   "cell_type": "code",
   "execution_count": null,
   "id": "9d81441d-26ad-4def-b208-50470d275e7b",
   "metadata": {},
   "outputs": [],
   "source": [
    "name = input(\"Give me your name: \")\n",
    "city = input(\"Give me your City: \")\n",
    "father = input(\"Give me your father name: \")\n",
    "\n",
    "print(f\"Hello Mr. {name},\\n s/o {father} and you are from {city}\")"
   ]
  },
  {
   "cell_type": "code",
   "execution_count": null,
   "id": "98aa60fd-4961-41c1-b3ec-e6e958c3df00",
   "metadata": {},
   "outputs": [],
   "source": [
    "# x = \"45\"\n",
    "# y = \"8\"\n",
    "\n",
    "# print(x + y)\n",
    "# # print(\"Karachi\" + \" \" + \"Karachi\")\n",
    "\n",
    "# print(\"4\" * 4)"
   ]
  },
  {
   "cell_type": "code",
   "execution_count": null,
   "id": "ea4260a9-caf2-41a5-8e7d-6337725e79fc",
   "metadata": {},
   "outputs": [],
   "source": [
    "print(\"Pakistan\\n\" * 100)"
   ]
  },
  {
   "cell_type": "code",
   "execution_count": null,
   "id": "05cd94e6-6c62-4382-a757-debd1750b58e",
   "metadata": {},
   "outputs": [],
   "source": [
    "a = \"Karachi\"\n",
    "b = 'Lahore'\n",
    "\n",
    "print(type(b))"
   ]
  },
  {
   "cell_type": "code",
   "execution_count": null,
   "id": "6c475947-98fe-4485-8120-5926e2b36bcb",
   "metadata": {},
   "outputs": [],
   "source": [
    "x = 'Quaid-e-Azam said, \"Never Give up.\"'\n",
    "y = \"This is Arshad's pen.\"\n",
    "a = str(4)\n",
    "z = '''Quaid-e-Azam said, \"Never Give up.\"\n",
    "This is Arshad's pen.\n",
    "I am Pakistani.'''\n",
    "\n",
    "print(x)"
   ]
  },
  {
   "cell_type": "code",
   "execution_count": null,
   "id": "a47ce787-568c-44ad-a815-163bfb9e042b",
   "metadata": {},
   "outputs": [],
   "source": [
    "# String is an iterable data structure\n",
    "z = '''Quaid-e-Azam said, \"Never Give up.\"\n",
    "This is Arshad's pen.\n",
    "I am Pakistani.'''\n",
    "# print(z[])\n",
    "print(z[5::-1])"
   ]
  },
  {
   "cell_type": "code",
   "execution_count": null,
   "id": "9ecea6b0-b50a-4505-b514-5a2c837fdc75",
   "metadata": {},
   "outputs": [],
   "source": [
    "name = input(\"Give me your name and I will give you the reverse of it: \")\n",
    "\n",
    "print(f\"The reverse of {name} is {name[::-1]}\")"
   ]
  },
  {
   "cell_type": "code",
   "execution_count": null,
   "id": "ec464ef7-84a5-4f43-9202-ad610ad3c86f",
   "metadata": {},
   "outputs": [],
   "source": [
    "pal = \"LIGHT\"\n",
    "st = pal[::-1]\n",
    "\n",
    "print(f\"The word {pal} is palindrome of {st}\")"
   ]
  },
  {
   "cell_type": "code",
   "execution_count": null,
   "id": "e05bbad9-47db-4af3-af43-3addcdfdd996",
   "metadata": {},
   "outputs": [],
   "source": [
    "a = \"17\"\n",
    "b = 12\n",
    "c = 2.3\n",
    "\n",
    "print(type(c))"
   ]
  },
  {
   "cell_type": "code",
   "execution_count": null,
   "id": "973a3c39-bfa6-4a00-8749-45379776e07e",
   "metadata": {},
   "outputs": [],
   "source": [
    "a = 4.1\n",
    "b = 2.0\n",
    "\n",
    "print(type(b))"
   ]
  },
  {
   "cell_type": "code",
   "execution_count": null,
   "id": "180a03a4-2976-4e6c-87c9-3ae476cc686a",
   "metadata": {},
   "outputs": [],
   "source": [
    "num1 = input(\"Give me 1st number: \")\n",
    "num2 = input(\"Give me 2nd number: \")\n",
    "\n",
    "print(f\"The Sum of {num1} and {num2} is {num1 + num2}\")\n",
    "print(f\"The Subtraction of {num1} and {num2} is {num1 - num2}\")\n",
    "print(f\"The Multiplication of {num1} and {num2} is {num1 * num2}\")\n",
    "print(f\"The Division of {num1} and {num2} is {num1 / num2}\")"
   ]
  },
  {
   "cell_type": "code",
   "execution_count": null,
   "id": "5dd03f4c-cdf3-45ad-94d2-71139995c122",
   "metadata": {},
   "outputs": [],
   "source": [
    "a = float(\"2.8\")\n",
    "b = str(45)\n",
    "c = str(1.2)\n",
    "x = int(a) + 2\n",
    "\n",
    "print(x)\n",
    "print(type(c))"
   ]
  },
  {
   "cell_type": "code",
   "execution_count": null,
   "id": "7954fc9c-3601-4455-9810-8079216aaa9e",
   "metadata": {},
   "outputs": [],
   "source": [
    "# a = 2.8\n",
    "# b = int(a)\n",
    "a = 5\n",
    "b = float(a)\n",
    "print(b)"
   ]
  },
  {
   "cell_type": "code",
   "execution_count": null,
   "id": "fab70757-2cf7-4a60-87ca-421275b09d5d",
   "metadata": {},
   "outputs": [],
   "source": [
    "a = (float(\"2\"))\n",
    "print(a)"
   ]
  },
  {
   "cell_type": "code",
   "execution_count": null,
   "id": "92f184f8-adc3-4e22-af1b-a3bb602b3392",
   "metadata": {},
   "outputs": [],
   "source": [
    "a = \"11\"\n",
    "b = int(a)\n",
    "c = int(2.6)\n",
    "d = b\n",
    "b = 7.2\n",
    "\n",
    "print(b + d)"
   ]
  },
  {
   "cell_type": "code",
   "execution_count": null,
   "id": "ace37963-f036-41ea-87b3-6ee9a671b3c2",
   "metadata": {},
   "outputs": [],
   "source": [
    "num1 = int(input(\"Give me 1st number: \"))\n",
    "num2 = int(input(\"Give me 2nd number: \"))\n",
    "\n",
    "print(f\"The Sum of {num1} and {num2} is {num1 + num2}\")\n",
    "print(f\"The Subtraction of {num1} and {num2} is {num1 - num2}\")\n",
    "print(f\"The Multiplication of {num1} and {num2} is {num1 * num2}\")\n",
    "print(f\"The Division of {num1} and {num2} is {num1 / num2}\")"
   ]
  },
  {
   "cell_type": "code",
   "execution_count": null,
   "id": "3f1951a9-36f4-4bd9-b91b-7d78bba21b83",
   "metadata": {},
   "outputs": [],
   "source": [
    "width = int(input(\"What's the width\"))\n",
    "length = int(input(\"What's the length\"))\n",
    "area = width * length\n",
    "\n",
    "print(f\"The area is {area}\")"
   ]
  },
  {
   "cell_type": "code",
   "execution_count": null,
   "id": "e478c978-3a16-44d7-87b0-0ae5e4021f6b",
   "metadata": {},
   "outputs": [],
   "source": [
    "age = int(input(\"What's your age: \"))\n",
    "\n",
    "year = 2025 - age + 100\n",
    "\n",
    "print(f\"You will be 100 years old in {year}\")"
   ]
  },
  {
   "cell_type": "code",
   "execution_count": null,
   "id": "f5cf6a64-e5fd-48fd-9d45-26a80522718e",
   "metadata": {},
   "outputs": [],
   "source": [
    "a = int(input(\"What's your a: \"))\n",
    "b = int(input(\"What's your b: \"))\n",
    "\n",
    "formula = a**2 + b**2 + 2*a*b\n",
    "\n",
    "print(f\"The Answer is {formula}\")"
   ]
  },
  {
   "cell_type": "markdown",
   "id": "6f4edf02-abee-4653-b507-99362be14bd9",
   "metadata": {},
   "source": [
    "## Home task\n",
    "* Ask Temprature in Celsius and Convert it into Fahrenheit\n",
    "* Ask The User Weight and Height and Calculate its BMI"
   ]
  },
  {
   "cell_type": "markdown",
   "id": "2fafbcfe-7750-4854-bcbf-8d12b4115c8e",
   "metadata": {},
   "source": [
    "## Operators and precedence of operators left"
   ]
  },
  {
   "cell_type": "code",
   "execution_count": null,
   "id": "3ad5094a-eba8-493a-85d5-b057685f4a7f",
   "metadata": {},
   "outputs": [],
   "source": [
    "day1 = int(input(\"Give me 1st profit: \"))\n",
    "day2 = int(input(\"Give me 2nd profit: \"))\n",
    "\n",
    "profit = (day1 + day2) / 2 \n",
    "\n",
    "print(f\"The profit to each is {profit}\")"
   ]
  },
  {
   "cell_type": "code",
   "execution_count": null,
   "id": "b0ce0b5d-3923-424a-9432-7a90f9f61859",
   "metadata": {},
   "outputs": [],
   "source": [
    "celsius = float(input(\"Enter temperature in Celsius: \"))\n",
    "fahrenheit = (celsius * 9/5) + 32\n",
    "\n",
    "print(f\"Temperature in Fahrenheit: {fahrenheit:.2f}°F\")"
   ]
  },
  {
   "cell_type": "code",
   "execution_count": null,
   "id": "150b6424-1511-495a-886a-51e8ad4b5ba9",
   "metadata": {},
   "outputs": [],
   "source": [
    "weight = float(input(\"Enter your weight in kilograms: \"))\n",
    "height = float(input(\"Enter your height in meters: \"))\n",
    "\n",
    "bmi = weight / (height ** 2)\n",
    "print(f\"Your BMI is: {bmi:.2f}\")"
   ]
  },
  {
   "cell_type": "code",
   "execution_count": null,
   "id": "1ab4b63d-e8aa-4511-866d-c8395358f570",
   "metadata": {},
   "outputs": [],
   "source": [
    "for i in range(5):\n",
    "    print(\"Yeh 500 Lines ka code he\")"
   ]
  },
  {
   "cell_type": "code",
   "execution_count": null,
   "id": "8bdea9e1-8550-4953-9a41-8b6dd4f882b3",
   "metadata": {},
   "outputs": [],
   "source": [
    "for i in range(3):\n",
    "    celsius = float(input(\"Enter temperature in Celsius: \"))\n",
    "    fahrenheit = (celsius * 9/5) + 32\n",
    "    \n",
    "    print(f\"Temperature in Fahrenheit: {fahrenheit:.2f}°F\\n-------------------\\n\")"
   ]
  },
  {
   "cell_type": "code",
   "execution_count": null,
   "id": "71b90631-e2ab-4e5e-848a-1123938189b5",
   "metadata": {},
   "outputs": [],
   "source": [
    "\"2 x 1 = 2\"\n",
    "for i in range(1, 11):\n",
    "    print(f\"2 x {i} = {2*i}\")"
   ]
  },
  {
   "cell_type": "markdown",
   "id": "1b0be34f-6cbf-482f-b447-854653763685",
   "metadata": {},
   "source": [
    "### Home Task\n",
    "* Ask the User number of table and till where he wants and print the entire table"
   ]
  },
  {
   "cell_type": "code",
   "execution_count": null,
   "id": "6528a427-0bec-4d94-b084-4441f1633912",
   "metadata": {},
   "outputs": [],
   "source": [
    "num = int(input(\"Which number of table do you want: \"))\n",
    "til = int(input(\"Till where you want: \"))\n",
    "\n",
    "for i in range(1, til+1):\n",
    "    print(f\"{num} x {i} = {num*i}\")"
   ]
  },
  {
   "cell_type": "code",
   "execution_count": null,
   "id": "d4a830b1-3de3-4fb1-b965-092bb61634bb",
   "metadata": {},
   "outputs": [],
   "source": [
    "for i in range(0, 21, 2):\n",
    "    print(i)"
   ]
  },
  {
   "cell_type": "code",
   "execution_count": null,
   "id": "86fa1c47-f314-426b-bc69-dd7540d8e0ba",
   "metadata": {},
   "outputs": [],
   "source": [
    "for i in range(9, 0, -1):\n",
    "    print(i)"
   ]
  },
  {
   "cell_type": "code",
   "execution_count": null,
   "id": "1d9f8340-5267-4da6-92d2-e84dbadd68b7",
   "metadata": {},
   "outputs": [],
   "source": [
    "y = \"This is Arshad's pen.\"\n",
    "\n",
    "for i in y:\n",
    "    print(\"i is \", i)"
   ]
  },
  {
   "cell_type": "code",
   "execution_count": null,
   "id": "d4973237-e7f4-46bc-abe0-23431a218fcc",
   "metadata": {},
   "outputs": [],
   "source": [
    "a = 2\n",
    "\n",
    "a = a  * 4\n",
    "print(a)"
   ]
  },
  {
   "cell_type": "code",
   "execution_count": null,
   "id": "5cfd016e-6293-465b-9fa8-39d40e0fdba2",
   "metadata": {},
   "outputs": [],
   "source": [
    "n = int(input(\"Which number of factorial do you want: \"))\n",
    "fact = 1\n",
    "\n",
    "for i in range(1, n+1):\n",
    "    fact *= i\n",
    "\n",
    "print(f\"The factorial of {n}! is {fact}\")"
   ]
  },
  {
   "cell_type": "code",
   "execution_count": null,
   "id": "b42ca643-659e-4b5f-b138-142383333e5f",
   "metadata": {},
   "outputs": [],
   "source": [
    "a = 2\n",
    "# a = a + 2\n",
    "a /= 3\n",
    "\n",
    "print(a)"
   ]
  },
  {
   "cell_type": "code",
   "execution_count": null,
   "id": "2b389ada-53df-4365-83d3-f58b8c613d18",
   "metadata": {},
   "outputs": [],
   "source": [
    "for i in range(3):\n",
    "    for j in range(i):\n",
    "        print(i, j)"
   ]
  },
  {
   "cell_type": "code",
   "execution_count": null,
   "id": "4d51e693-4670-4c44-9860-be94ca63676f",
   "metadata": {},
   "outputs": [],
   "source": [
    "13**3"
   ]
  },
  {
   "cell_type": "markdown",
   "id": "3dca1055-07fa-471e-8853-4f894d450c37",
   "metadata": {},
   "source": [
    "### Home Task\n",
    "* Take an input from the user and show the reverse factorial of each number\n",
    "e.g.\n",
    "\n",
    "* 5! 120\n",
    "* 4! 24\n",
    "* 3! 6"
   ]
  },
  {
   "cell_type": "code",
   "execution_count": null,
   "id": "64d8125d-a9b4-4bf4-a787-cf7a66aab8e6",
   "metadata": {},
   "outputs": [],
   "source": [
    "n =int(input(\"Which number of factorial do you want: \"))\n",
    "fact = 1\n",
    "\n",
    "for i in range(1, n + 1):\n",
    "    fact *= i\n",
    "\n",
    "for i in range(n, 0, -1):\n",
    "    print(f\"The Factorial of {i}! is {int(fact)}\")\n",
    "    fact /= i"
   ]
  },
  {
   "cell_type": "code",
   "execution_count": null,
   "id": "ffed0242-5378-45e0-b2d0-652c93ee8d5c",
   "metadata": {},
   "outputs": [],
   "source": [
    "n = 6\n",
    "\n",
    "for i in range(n, 0, -1):\n",
    "    fact = 1\n",
    "    for j in range(1, i+1):\n",
    "        fact *= j\n",
    "    print(fact)"
   ]
  },
  {
   "cell_type": "code",
   "execution_count": null,
   "id": "67fcd6f3-9a47-4d3b-becf-1cd521930b63",
   "metadata": {},
   "outputs": [],
   "source": [
    "n = int(input(\"Which number of factorial do you want: \"))\n",
    "fact = 1\n",
    "\n",
    "for i in range(1, n+1):\n",
    "    fact *= i\n",
    "\n",
    "print(f\"The factorial of {n}! is {fact}\")"
   ]
  },
  {
   "cell_type": "code",
   "execution_count": null,
   "id": "5ed372a1-ffc6-486b-9089-e7416537568a",
   "metadata": {},
   "outputs": [],
   "source": [
    "marks = int(input(\"What's your marks: \"))\n",
    "\n",
    "if marks >= 50:\n",
    "    print(\"You are Pass, Mubarak HO!!\")\n",
    "else:\n",
    "    print(\"You are Failed, Mehnat KRO!!\")\n",
    "    "
   ]
  },
  {
   "cell_type": "code",
   "execution_count": null,
   "id": "43e6d97d-c283-4cb8-a0b8-1bd5edcebb42",
   "metadata": {},
   "outputs": [],
   "source": [
    "print(2 >= 7)"
   ]
  },
  {
   "cell_type": "code",
   "execution_count": null,
   "id": "b3b144f2-4b60-41cb-b335-0b94f1e4f9b0",
   "metadata": {},
   "outputs": [],
   "source": [
    "age = int(input(\"What's your age: \"))\n",
    "\n",
    "if age != 18 :\n",
    "    print(\"Allow He!!\")\n",
    "else:\n",
    "    print(\"Allow nhi he!!\")"
   ]
  },
  {
   "cell_type": "code",
   "execution_count": null,
   "id": "3fd10094-1a8c-4794-804f-45c2fdaf7a76",
   "metadata": {},
   "outputs": [],
   "source": [
    "num = int(input(\"Give me a number: \"))\n",
    "\n",
    "if num % 2 != 0:\n",
    "    print(\"This is ODD\")\n",
    "else:\n",
    "    print(\"This is EVEN\")\n",
    "    "
   ]
  },
  {
   "cell_type": "code",
   "execution_count": null,
   "id": "ca26d270-1a6c-4f5b-93a7-b5cda64e7500",
   "metadata": {},
   "outputs": [],
   "source": [
    "eng = int(input(\"What's your english Marks: \"))\n",
    "mat = int(input(\"What's your Math Marks: \"))\n",
    "urd = int(input(\"What's your Urdu Marks: \"))\n",
    "\n",
    "obt_marks = eng + mat + urd\n",
    "percentage = obt_marks / 300 * 100\n",
    "\n",
    "print(f\"---------------------\\nYour marks are {obt_marks}\\nPercentage is {percentage:.2f}%\")\n",
    "\n",
    "if eng < 50 or mat < 50 or urd < 50:\n",
    "    print(\"You are Failed, Thats Why Grade is not applicable\")\n",
    "else:\n",
    "    print(\"You are Pass\")\n",
    "    if percentage >= 80 and percentage <=100:\n",
    "        print(\"Your grade is A+\")\n",
    "    elif percentage >= 70 and percentage <80:\n",
    "        print(\"Your grade is A\")\n",
    "    elif percentage >= 60 and percentage <70:\n",
    "        print(\"Your grade is B\")\n",
    "    elif percentage >= 50 and percentage <60:\n",
    "        print(\"Your grade is C\")\n",
    "    elif percentage >=0 and percentage <50:\n",
    "        print(\"You are Failed\")\n",
    "    else:\n",
    "        print(\"Invalid Value of Percentage\")"
   ]
  },
  {
   "cell_type": "markdown",
   "id": "0aeeae84-f1e1-439d-bb6c-6f53ddd2ad8d",
   "metadata": {},
   "source": [
    "### Home Task\n",
    "1. Take a string input from user and count the 'a's in it or a particular character.\n",
    "2. Correct the Marksheet as if a student fails in a subject it should show Fail."
   ]
  },
  {
   "cell_type": "code",
   "execution_count": null,
   "id": "23e36c7c-90bb-4fac-a175-1d4dead05246",
   "metadata": {},
   "outputs": [],
   "source": [
    "eng = int(input(\"What's your english Marks: \"))\n",
    "mat = int(input(\"What's your Math Marks: \"))\n",
    "urd = int(input(\"What's your Urdu Marks: \"))\n",
    "\n",
    "if eng > 100 or mat > 100 or urd > 100:\n",
    "    print(\"Marks are Exceeding\")\n",
    "else:\n",
    "    print(\"Okay he sb kuch\")"
   ]
  },
  {
   "cell_type": "code",
   "execution_count": null,
   "id": "12811834-671f-41d9-bae3-18b7ed72316e",
   "metadata": {},
   "outputs": [],
   "source": [
    "a = input(\"Give me a String: \").lower()\n",
    "print(a)\n",
    "character = input(\"Give me a character you want to find: \")\n",
    "count = 0\n",
    "for i in a:\n",
    "    print(i.lower(), character.lower())\n",
    "    if i.lower() == character.lower():\n",
    "        count += 1\n",
    "        \n",
    "print(f\"There are {count} {character}'s in {a}\")"
   ]
  },
  {
   "cell_type": "code",
   "execution_count": null,
   "id": "70b7b61a-7c66-4b24-9fc9-8d54997229e1",
   "metadata": {},
   "outputs": [],
   "source": [
    "a = \"My name is Amjad Aziz. I am student of AI. I work as a Data Analyst.\"\n",
    "x = \" Amjad Aziz \"\n",
    "b = \" abc@gmail.com \"\n",
    "y = x.swapcase()\n",
    "# y = a.title()\n",
    "# y = a.lower().count(\"A\".lower())\n",
    "# print(a.upper())\n",
    "# print(a.lower())\n",
    "# print(a.capitalize())\n",
    "# print(b.strip())\n",
    "# print(y)\n",
    "# print(len(x))\n",
    "# y = a.find(\"k\")\n",
    "# y = a.replace(\"Amjad\", \"Arshad\")\n",
    "# y = a.split(\".\")\n",
    "\n",
    "print(y)"
   ]
  },
  {
   "cell_type": "code",
   "execution_count": null,
   "id": "4a61d58b-a7ba-4ec8-8857-da9ad259b15a",
   "metadata": {},
   "outputs": [],
   "source": [
    "x = \" pakistan  Came into being   on 14   August 1947.Its is my   country.\"\n",
    "z = \" \".join(x.strip().split()).split(\".\")\n",
    "z = \" \".join(z).lower().capitalize()\n",
    "# z[42].append()\n",
    "print(z)\n",
    "# print(z.find(\"7\"))"
   ]
  },
  {
   "cell_type": "code",
   "execution_count": null,
   "id": "c774bd95-ee08-4a82-8c41-46c7fc25714f",
   "metadata": {},
   "outputs": [],
   "source": [
    "a = \"Amjad\"\n",
    "\n",
    "print(a.lower())"
   ]
  },
  {
   "cell_type": "code",
   "execution_count": null,
   "id": "dec6be8a-e2cf-4941-9898-dd4150224a32",
   "metadata": {},
   "outputs": [],
   "source": [
    "a = 5\n",
    "\n",
    "while a > 1:\n",
    "    print(\"Loop\")\n",
    "    a -= 1"
   ]
  },
  {
   "cell_type": "code",
   "execution_count": null,
   "id": "693b6bde-01cc-4039-9af9-1b2d5e2b4757",
   "metadata": {},
   "outputs": [],
   "source": [
    "a = input(\"Press 'q' to stop or other key to continue: \")\n",
    "\n",
    "while a != \"q\":\n",
    "    print(\"Loop is running.. \\n\\n\")\n",
    "\n",
    "    a = input(\"Press 'q' to stop or other key to continue: \")\n",
    "\n"
   ]
  },
  {
   "cell_type": "code",
   "execution_count": null,
   "id": "2705ad7f-638e-4308-a90a-98d588fc5c65",
   "metadata": {},
   "outputs": [],
   "source": [
    "while True:\n",
    "    print(\"Loop is running.. \\n\\n\")\n",
    "\n",
    "    a = input(\"Press 'q' to stop or other key to continue: \")\n",
    "    if a.lower() == \"q\":\n",
    "        break"
   ]
  },
  {
   "cell_type": "code",
   "execution_count": null,
   "id": "fddba381-77bc-4a88-9a93-040543d031c1",
   "metadata": {},
   "outputs": [],
   "source": [
    "day = int(input(\"Give me a number: \"))\n",
    "\n",
    "if day == 1:\n",
    "    print(\"Monday\")\n",
    "elif day == 2:\n",
    "    print(\"Tuesday\")\n",
    "elif day == 3:\n",
    "    print(\"Wednesday\")\n",
    "elif day == 4:\n",
    "    print(\"Thursday\")\n",
    "elif day == 5:\n",
    "    print(\"Friday\")\n",
    "elif day == 6:\n",
    "    print(\"Saturday\")\n",
    "elif day == 7:\n",
    "    print(\"Sunday\")\n",
    "else:\n",
    "    print(\"Please Try Again\")\n"
   ]
  },
  {
   "cell_type": "code",
   "execution_count": null,
   "id": "b1020c75-90ec-48ea-a95a-28e517ffe215",
   "metadata": {},
   "outputs": [],
   "source": [
    "day = int(input(\"Give me a number: \"))\n",
    "\n",
    "match day:\n",
    "    case 1:\n",
    "        print(\"Monday\")\n",
    "    case 2:\n",
    "        print(\"Tuesday\")\n",
    "    case 3:\n",
    "        print(\"Wednesday\")\n",
    "    case 4:\n",
    "        print(\"Thursday\")\n",
    "    case 5:\n",
    "        print(\"Friday\")\n",
    "    case _:\n",
    "        print(\"Not a workday\")\n"
   ]
  },
  {
   "cell_type": "code",
   "execution_count": null,
   "id": "bbd06c9e-19c0-4a43-84d3-317ecae8004a",
   "metadata": {},
   "outputs": [],
   "source": [
    "day = int(input(\"Give me a number: \"))\n",
    "\n",
    "match day:\n",
    "    case 1 | 2 | 3 | 4 | 5:\n",
    "        print(\"Workday\")\n",
    "    case 6 | 7:\n",
    "        print(\"Weekend\")\n",
    "    case _:\n",
    "        print(\"not a valid digit for day\")"
   ]
  },
  {
   "cell_type": "code",
   "execution_count": 5,
   "id": "35e45700-2c76-4810-a384-395c5ecb5b2e",
   "metadata": {},
   "outputs": [
    {
     "name": "stdout",
     "output_type": "stream",
     "text": [
      "Hello\n",
      "Welcome to this program\n"
     ]
    }
   ],
   "source": [
    "def greeting():\n",
    "    print(\"Hello\")\n",
    "    print(\"Welcome to this program\")\n",
    "\n",
    "greeting()"
   ]
  },
  {
   "cell_type": "code",
   "execution_count": 7,
   "id": "7b0965c9-bc40-4a90-9051-91311b16bf29",
   "metadata": {},
   "outputs": [
    {
     "name": "stdout",
     "output_type": "stream",
     "text": [
      "Hello\n",
      "Welcome to this program\n",
      "9\n",
      "Hello\n",
      "Welcome to this program\n"
     ]
    }
   ],
   "source": [
    "def Welcome():\n",
    "    print(\"Hello\")\n",
    "    print(\"Welcome to this program\")\n",
    "\n",
    "a = 6\n",
    "Welcome()\n",
    "print(a + 3)\n",
    "Welcome()"
   ]
  },
  {
   "cell_type": "code",
   "execution_count": null,
   "id": "448a0800-3ad7-40b3-bcb3-4e6209a28201",
   "metadata": {},
   "outputs": [],
   "source": [
    "for i in range(5):\n",
    "    print(\"1\")\n",
    "    print(\"2\")"
   ]
  },
  {
   "cell_type": "code",
   "execution_count": 1,
   "id": "23c0bf4f-8594-4344-aa99-91bdb97073d8",
   "metadata": {},
   "outputs": [
    {
     "name": "stdout",
     "output_type": "stream",
     "text": [
      "Here's the Table of 2:\n",
      "2 x 1 = 2\n",
      "2 x 2 = 4\n",
      "2 x 3 = 6\n",
      "2 x 4 = 8\n",
      "2 x 5 = 10\n",
      "2 x 6 = 12\n",
      "2 x 7 = 14\n",
      "2 x 8 = 16\n",
      "2 x 9 = 18\n",
      "2 x 10 = 20\n",
      "2 x 1 = 2\n",
      "2 x 2 = 4\n",
      "2 x 3 = 6\n",
      "2 x 4 = 8\n",
      "2 x 5 = 10\n",
      "2 x 6 = 12\n",
      "2 x 7 = 14\n",
      "2 x 8 = 16\n",
      "2 x 9 = 18\n",
      "2 x 10 = 20\n"
     ]
    }
   ],
   "source": [
    "def table():\n",
    "    for i in range(1, 11):\n",
    "        print(f\"2 x {i} = {i*2}\")\n",
    "\n",
    "print(\"Here's the Table of 2:\")\n",
    "table()\n",
    "table()"
   ]
  },
  {
   "cell_type": "code",
   "execution_count": 70,
   "id": "0944d271-c714-48c4-8100-7ef3a1d91655",
   "metadata": {},
   "outputs": [
    {
     "name": "stdout",
     "output_type": "stream",
     "text": [
      "Hello\n",
      "Welcome to this program\n"
     ]
    }
   ],
   "source": [
    "def Welcome():\n",
    "    print(\"Hello\")\n",
    "    print(\"Welcome to this program\")\n",
    "\n",
    "    # Welcome()\n",
    "\n",
    "Welcome()"
   ]
  },
  {
   "cell_type": "code",
   "execution_count": null,
   "id": "26914283-f520-47a0-ba19-9ece3d8b35d8",
   "metadata": {},
   "outputs": [],
   "source": [
    "day = int(input(\"Give me a number: \"))\n",
    "\n",
    "match day:\n",
    "    case 1 | 2 | 3 | 4 | 5:\n",
    "        print(\"Workday\")\n",
    "    case 6 | 7:\n",
    "        print(\"Weekend\")\n",
    "    case _:\n",
    "        print(\"not a valid digit for day\")"
   ]
  },
  {
   "cell_type": "code",
   "execution_count": 5,
   "id": "326ecc0d-18cb-4225-bbc5-88d33ebb9306",
   "metadata": {},
   "outputs": [
    {
     "name": "stdin",
     "output_type": "stream",
     "text": [
      "Give me a number:  1\n"
     ]
    },
    {
     "name": "stdout",
     "output_type": "stream",
     "text": [
      "All of you check your emails\n",
      "There are 0 tasks remaining\n",
      "Be respectful to eachother\n"
     ]
    }
   ],
   "source": [
    "def Workday():\n",
    "    print(\"All of you check your emails\")\n",
    "    updates = 0\n",
    "    print(f\"There are {updates} tasks remaining\")\n",
    "    print(\"Be respectful to eachother\")\n",
    "    #salary += 2500\n",
    "\n",
    "def Weekend():\n",
    "    print(\"Today is weekend\")\n",
    "    print(\"Enjoy your weekennd\")\n",
    "    print(\"Some random motivational quotes\")\n",
    "\n",
    "\n",
    "day = int(input(\"Give me a number: \"))\n",
    "\n",
    "match day:\n",
    "    case 1 | 2 | 3 | 4 | 5:\n",
    "        Workday()\n",
    "    case 6 | 7:\n",
    "        Weekend()\n",
    "    case _:\n",
    "        print(\"not a valid digit for day\")"
   ]
  },
  {
   "cell_type": "code",
   "execution_count": 9,
   "id": "736dee0a-e006-47b2-aafe-121a5fec5bc7",
   "metadata": {},
   "outputs": [
    {
     "name": "stdin",
     "output_type": "stream",
     "text": [
      "What's your english Marks:  23\n",
      "What's your Math Marks:  45\n",
      "What's your Urdu Marks:  84\n"
     ]
    },
    {
     "name": "stdout",
     "output_type": "stream",
     "text": [
      "---------------------\n",
      "Your marks are 152\n",
      "Percentage is 50.67%\n",
      "You are Failed, Thats Why Grade is not applicable\n"
     ]
    },
    {
     "name": "stdin",
     "output_type": "stream",
     "text": [
      "Press 'q' to stop or other key to continue:  a\n",
      "What's your english Marks:  84\n",
      "What's your Math Marks:  814\n",
      "What's your Urdu Marks:  84\n"
     ]
    },
    {
     "name": "stdout",
     "output_type": "stream",
     "text": [
      "---------------------\n",
      "Your marks are 982\n",
      "Percentage is 327.33%\n",
      "You are Pass\n",
      "Invalid Value of Percentage\n"
     ]
    },
    {
     "name": "stdin",
     "output_type": "stream",
     "text": [
      "Press 'q' to stop or other key to continue:  q\n"
     ]
    }
   ],
   "source": [
    "def Marksheet():\n",
    "    eng = int(input(\"What's your english Marks: \"))\n",
    "    mat = int(input(\"What's your Math Marks: \"))\n",
    "    urd = int(input(\"What's your Urdu Marks: \"))\n",
    "    \n",
    "    obt_marks = eng + mat + urd\n",
    "    percentage = obt_marks / 300 * 100\n",
    "    \n",
    "    print(f\"---------------------\\nYour marks are {obt_marks}\\nPercentage is {percentage:.2f}%\")\n",
    "    \n",
    "    if eng < 50 or mat < 50 or urd < 50:\n",
    "        print(\"You are Failed, Thats Why Grade is not applicable\")\n",
    "    else:\n",
    "        print(\"You are Pass\")\n",
    "        if percentage >= 80 and percentage <=100:\n",
    "            print(\"Your grade is A+\")\n",
    "        elif percentage >= 70 and percentage <80:\n",
    "            print(\"Your grade is A\")\n",
    "        elif percentage >= 60 and percentage <70:\n",
    "            print(\"Your grade is B\")\n",
    "        elif percentage >= 50 and percentage <60:\n",
    "            print(\"Your grade is C\")\n",
    "        elif percentage >=0 and percentage <50:\n",
    "            print(\"You are Failed\")\n",
    "        else:\n",
    "            print(\"Invalid Value of Percentage\")\n",
    "\n",
    "while True:\n",
    "    Marksheet()\n",
    "\n",
    "    a = input(\"Press 'q' to stop or other key to continue: \")\n",
    "    if a.lower() == \"q\":\n",
    "        break"
   ]
  },
  {
   "cell_type": "code",
   "execution_count": 37,
   "id": "fe3ba5b2-b45d-46e6-8685-4ed7e752bfd9",
   "metadata": {},
   "outputs": [
    {
     "name": "stdout",
     "output_type": "stream",
     "text": [
      "Your salary was 25000\n",
      "You got 45000\n",
      "Your salary was 60000\n",
      "You got 80000\n"
     ]
    }
   ],
   "source": [
    "def bonus(salary = 25000):\n",
    "    print(f\"Your salary was {salary}\")\n",
    "    print(f\"You got {20000 + salary}\")\n",
    "\n",
    "bonus()\n",
    "bonus(60000)\n",
    "# umar = 56000\n",
    "# ibad = 97000\n",
    "# print(\"Hello, This is a program\\n\")\n",
    "# bonus(umar)\n",
    "# bonus(ibad)"
   ]
  },
  {
   "cell_type": "code",
   "execution_count": 23,
   "id": "7918ad84-392f-4839-8e49-e582d6e1fc4c",
   "metadata": {},
   "outputs": [
    {
     "name": "stdout",
     "output_type": "stream",
     "text": [
      "-5\n"
     ]
    }
   ],
   "source": [
    "def minus(x, y):\n",
    "    print(x - y)\n",
    "\n",
    "minus(15, 10)"
   ]
  },
  {
   "cell_type": "code",
   "execution_count": 41,
   "id": "e4d8209c-b2cd-40d5-8a4d-bd5ece1f5ae1",
   "metadata": {},
   "outputs": [
    {
     "name": "stdin",
     "output_type": "stream",
     "text": [
      "Whats your name:  opiu\\\n"
     ]
    },
    {
     "name": "stdout",
     "output_type": "stream",
     "text": [
      "opiu\\ your salary was 50000 and you got 70000\n"
     ]
    }
   ],
   "source": [
    "def bonus(name, salary = 25000):\n",
    "    print(f\"{name} your salary was {salary} and you got {salary + 20000}\")\n",
    "\n",
    "na = input(\"Whats your name: \")\n",
    "# sal = int(input(\"Whats your salary: \"))\n",
    "bonus(na, 50000)\n",
    "# bonus(input(\"Name\"), int(input(\"Salary\")))"
   ]
  },
  {
   "cell_type": "code",
   "execution_count": null,
   "id": "98db40ad-0c1e-4e84-b77e-fdb2371230c5",
   "metadata": {},
   "outputs": [],
   "source": [
    "def my_function(country = \"Norway\"):\n",
    "  print(\"I am from \" + country)\n",
    "\n",
    "my_function(\"Sweden\")\n",
    "my_function(\"India\")\n",
    "my_function()\n",
    "my_function(\"Brazil\")"
   ]
  },
  {
   "cell_type": "code",
   "execution_count": 67,
   "id": "0c8b98b5-07e5-46e4-8f28-5df35246340d",
   "metadata": {},
   "outputs": [
    {
     "name": "stdout",
     "output_type": "stream",
     "text": [
      "83.33333333333334\n"
     ]
    }
   ],
   "source": [
    "def percentage(obt):\n",
    "    return obt / 300 * 100\n",
    "\n",
    "# arshad = percentage(150)\n",
    "\n",
    "print(percentage(250))"
   ]
  },
  {
   "cell_type": "code",
   "execution_count": 57,
   "id": "51efc918-6a70-4f3f-972f-526e3bae54f5",
   "metadata": {},
   "outputs": [
    {
     "name": "stdout",
     "output_type": "stream",
     "text": [
      "58\n"
     ]
    }
   ],
   "source": [
    "a = int(\"56\")\n",
    "print(a+ 2)"
   ]
  },
  {
   "cell_type": "markdown",
   "id": "20c2ec9a-9053-4939-bc3c-fadf478f2201",
   "metadata": {},
   "source": [
    "### Home Task\n",
    "\n",
    "Task: Create a function that simulates a simple banking system with the following operations:\n",
    "\n",
    "1. Deposit (add money to balance)\n",
    "\n",
    "2. Withdraw (subtract money from balance)\n",
    "\n",
    "3. View balance (prints the current balance)\n",
    "\n",
    "The function should take parameters to define the type of transaction (deposit/withdraw/view) and the amount (for deposit/withdraw). Implement default balance as 0.\n",
    "\n",
    "Example:\n",
    "\n",
    "     * bank_account(\"deposit\", 500) → Balance is now 500.\n",
    "\n",
    "     * bank_account(\"withdraw\", 200) → Balance is now 300.\n",
    "\n",
    "     * bank_account(\"view\") → Balance is 300."
   ]
  },
  {
   "cell_type": "code",
   "execution_count": 45,
   "id": "9d8a7cb0-2bb4-454e-83db-95f84ef2e98d",
   "metadata": {},
   "outputs": [
    {
     "data": {
      "text/plain": [
       "'Your amount deposited and balance is 100'"
      ]
     },
     "execution_count": 45,
     "metadata": {},
     "output_type": "execute_result"
    }
   ],
   "source": [
    "def bank_account(opr, balance = 0):\n",
    "    amount = 0\n",
    "    if opr == \"view\":\n",
    "        return f\"Your balance is {balance}\"\n",
    "    elif opr == \"deposit\":\n",
    "        amount += balance\n",
    "        return f\"Your amount deposited and balance is {amount}\"\n",
    "    elif opr == \"withdraw\":\n",
    "        amount = amount - balance\n",
    "        return f\"Your amount withdrew and balance is {amount}\"\n",
    "    else:\n",
    "        pass\n",
    "\n",
    "bank_account(\"deposit\", 100)\n"
   ]
  },
  {
   "cell_type": "code",
   "execution_count": 3,
   "id": "98a732a7-67c2-4479-9ac9-ae2cb3811444",
   "metadata": {},
   "outputs": [
    {
     "name": "stdout",
     "output_type": "stream",
     "text": [
      "Hello ABC.. You are from UK\n",
      "Hello XYZ.. You are from Afghanistan\n",
      "Hello ALI.. You are from UK\n",
      "Hello Asad.. You are from UK\n"
     ]
    }
   ],
   "source": [
    "def greet(name, country = \"UK\"):\n",
    "    print(f\"Hello {name}.. You are from {country}\")\n",
    "\n",
    "greet(\"ABC\")\n",
    "greet(\"XYZ\", \"Afghanistan\")\n",
    "greet(\"ALI\")\n",
    "greet(\"Asad\")"
   ]
  },
  {
   "cell_type": "code",
   "execution_count": 7,
   "id": "de6f3628-5cf4-4248-9c33-96ecdbc9ed05",
   "metadata": {},
   "outputs": [
    {
     "name": "stdout",
     "output_type": "stream",
     "text": [
      "Ali your salary was 25000 and you got 45000\n"
     ]
    }
   ],
   "source": [
    "def bonus(name, salary):\n",
    "    print(f\"{name} your salary was {salary} and you got {salary + 20000}\")\n",
    "\n",
    "# na = input(\"Whats your name: \")\n",
    "# sal = int(input(\"Whats your salary: \"))\n",
    "# bonus(na, sal)\n",
    "bonus(na = \"Ali\", sal = 25000)"
   ]
  },
  {
   "cell_type": "code",
   "execution_count": 11,
   "id": "7d860877-f859-4064-abeb-45f68dc83509",
   "metadata": {},
   "outputs": [
    {
     "name": "stdout",
     "output_type": "stream",
     "text": [
      "2 4 5\n"
     ]
    }
   ],
   "source": [
    "print(2, 4, 5)"
   ]
  },
  {
   "cell_type": "code",
   "execution_count": 81,
   "id": "4cd2898a-54ba-4ea7-92d8-5d51819b6539",
   "metadata": {},
   "outputs": [
    {
     "name": "stdout",
     "output_type": "stream",
     "text": [
      "['Ali', 'Haider', 45, 5.2, 123]\n"
     ]
    }
   ],
   "source": [
    "names = [ \"Ali\", \"Haider\", \"Qari\" , 45, 5.2, \"Qari\", 123, \"Qari\", \"Qari\"]\n",
    "\n",
    "# for i in range(names.count(\"Qari\")):\n",
    "#     names.remove(\"Qari\")\n",
    "while \"Qari\" in names:\n",
    "    names.remove(\"Qari\")\n",
    "\n",
    "\n",
    "# print(type(names))\n",
    "# print(names[-4:])\n",
    "# for i in names:\n",
    "# #     print(i)\n",
    "# names[7] = \"Arshad\"\n",
    "# new = [\"New\", 1, 2, 3, 4]\n",
    "# names = names + new\n",
    "# names.append(456)\n",
    "# names.insert(1, \"456\")\n",
    "# print(names.count(\"Ali\"))\n",
    "# print(names.index(\"Qari\"))\n",
    "# names.pop(1)\n",
    "# names.remove(\"Qari\")\n",
    "\n",
    "print(names)"
   ]
  },
  {
   "cell_type": "code",
   "execution_count": 23,
   "id": "b41eb9a1-60ca-4782-9945-03d079edccdf",
   "metadata": {},
   "outputs": [
    {
     "ename": "TypeError",
     "evalue": "'str' object does not support item assignment",
     "output_type": "error",
     "traceback": [
      "\u001b[1;31m---------------------------------------------------------------------------\u001b[0m",
      "\u001b[1;31mTypeError\u001b[0m                                 Traceback (most recent call last)",
      "Cell \u001b[1;32mIn[23], line 3\u001b[0m\n\u001b[0;32m      1\u001b[0m a \u001b[38;5;241m=\u001b[39m \u001b[38;5;124m\"\u001b[39m\u001b[38;5;124mPakistan\u001b[39m\u001b[38;5;124m\"\u001b[39m\n\u001b[1;32m----> 3\u001b[0m a[\u001b[38;5;241m2\u001b[39m] \u001b[38;5;241m=\u001b[39m \u001b[38;5;124m\"\u001b[39m\u001b[38;5;124mB\u001b[39m\u001b[38;5;124m\"\u001b[39m\n",
      "\u001b[1;31mTypeError\u001b[0m: 'str' object does not support item assignment"
     ]
    }
   ],
   "source": [
    "a = \"Pakistan\"\n",
    "a = \"ABC\"\n",
    "\n",
    "# a[2] = \"B\""
   ]
  },
  {
   "cell_type": "code",
   "execution_count": 61,
   "id": "106de239-7e6f-4440-a5be-fa9b62f74140",
   "metadata": {},
   "outputs": [
    {
     "name": "stdin",
     "output_type": "stream",
     "text": [
      "What to add:  6\n",
      "What to add:  7\n",
      "What to add:  8\n",
      "What to add:  9\n",
      "What to add:  10\n"
     ]
    },
    {
     "name": "stdout",
     "output_type": "stream",
     "text": [
      "[1, 2, 3, 4, 5, 6, 7, 8, 9, 10]\n"
     ]
    }
   ],
   "source": [
    "# data = [1, 2 ,3, 4, 5]\n",
    "data = []\n",
    "for i in range(5):\n",
    "    data.append(int(input(\"What to add: \")))\n",
    "\n",
    "print(data)"
   ]
  },
  {
   "cell_type": "code",
   "execution_count": null,
   "id": "173054b4-543a-4b7d-a534-0313ca71ad7b",
   "metadata": {},
   "outputs": [],
   "source": []
  }
 ],
 "metadata": {
  "kernelspec": {
   "display_name": "Python [conda env:base] *",
   "language": "python",
   "name": "conda-base-py"
  },
  "language_info": {
   "codemirror_mode": {
    "name": "ipython",
    "version": 3
   },
   "file_extension": ".py",
   "mimetype": "text/x-python",
   "name": "python",
   "nbconvert_exporter": "python",
   "pygments_lexer": "ipython3",
   "version": "3.12.7"
  }
 },
 "nbformat": 4,
 "nbformat_minor": 5
}
