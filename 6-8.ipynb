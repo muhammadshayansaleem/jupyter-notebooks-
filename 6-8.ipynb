{
 "cells": [
  {
   "cell_type": "code",
   "execution_count": 2,
   "id": "c318c9e4-da90-40a4-bc13-93a4fe8c2c8a",
   "metadata": {},
   "outputs": [
    {
     "name": "stdout",
     "output_type": "stream",
     "text": [
      "Hello World\n"
     ]
    }
   ],
   "source": [
    "print(\"Hello World\")"
   ]
  },
  {
   "cell_type": "code",
   "execution_count": 8,
   "id": "a8a805cf-70df-4b34-b1b0-e644837717f1",
   "metadata": {},
   "outputs": [
    {
     "name": "stdout",
     "output_type": "stream",
     "text": [
      "Welcome to this program Amjad Aziz\n"
     ]
    }
   ],
   "source": [
    "name = \"Amjad Aziz\"\n",
    "welcome = \"Welcome to this program\"\n",
    "\n",
    "print(welcome, name)"
   ]
  },
  {
   "cell_type": "code",
   "execution_count": 11,
   "id": "4b2a556a-bda1-4bcd-a152-74add5fdb61c",
   "metadata": {},
   "outputs": [
    {
     "name": "stdout",
     "output_type": "stream",
     "text": [
      "Hello,  Amjad Aziz Aziz Ahmed karachi Welcome to this program..\n"
     ]
    }
   ],
   "source": [
    "name = \"Amjad Aziz\"\n",
    "city = \"karachi\"\n",
    "father = \"Aziz Ahmed\"\n",
    "\n",
    "print(\"Hello, \", name, father, city, \"Welcome to this program..\")"
   ]
  },
  {
   "cell_type": "code",
   "execution_count": 1,
   "id": "f75694a0-ae35-4b6a-8fdc-a05e882b5508",
   "metadata": {},
   "outputs": [
    {
     "name": "stdout",
     "output_type": "stream",
     "text": [
      "Amjad Aziz Amjad Aziz Amjad Aziz\n"
     ]
    }
   ],
   "source": [
    "name = \"Amjad Aziz\"\n",
    "city = \"karachi\"\n",
    "father = \"Aziz Ahmed\"\n",
    "\n",
    "print(name, name, name)"
   ]
  },
  {
   "cell_type": "code",
   "execution_count": 5,
   "id": "6c0a3994-c807-4cf8-8c76-fb4129d62266",
   "metadata": {},
   "outputs": [
    {
     "name": "stdin",
     "output_type": "stream",
     "text": [
      "Give me your name:  Ali\n",
      "Give me your City:  Islamabad\n",
      "Give me your father name:  Amaan\n"
     ]
    },
    {
     "name": "stdout",
     "output_type": "stream",
     "text": [
      "Hello Mr. Ali your father name is Amaan your city is Islamabad Welcome to this program..\n"
     ]
    }
   ],
   "source": [
    "name = input(\"Give me your name: \")\n",
    "city = input(\"Give me your City: \")\n",
    "father = input(\"Give me your father name: \")\n",
    "\n",
    "print(\"Hello Mr.\", name, \"your father name is\", father, \"your city is\",city, \"Welcome to this program..\")"
   ]
  },
  {
   "cell_type": "code",
   "execution_count": 25,
   "id": "9d81441d-26ad-4def-b208-50470d275e7b",
   "metadata": {},
   "outputs": [
    {
     "name": "stdin",
     "output_type": "stream",
     "text": [
      "Give me your name:  ALI\n",
      "Give me your City:  Lhr\n",
      "Give me your father name:  Sheraz\n"
     ]
    },
    {
     "name": "stdout",
     "output_type": "stream",
     "text": [
      "Hello Mr. ALI,\n",
      " s/o Sheraz and you are from Lhr\n"
     ]
    }
   ],
   "source": [
    "name = input(\"Give me your name: \")\n",
    "city = input(\"Give me your City: \")\n",
    "father = input(\"Give me your father name: \")\n",
    "\n",
    "print(f\"Hello Mr. {name},\\n s/o {father} and you are from {city}\")"
   ]
  },
  {
   "cell_type": "code",
   "execution_count": 29,
   "id": "98aa60fd-4961-41c1-b3ec-e6e958c3df00",
   "metadata": {},
   "outputs": [
    {
     "name": "stdout",
     "output_type": "stream",
     "text": [
      "4444\n"
     ]
    }
   ],
   "source": [
    "# x = \"45\"\n",
    "# y = \"8\"\n",
    "\n",
    "# print(x + y)\n",
    "# # print(\"Karachi\" + \" \" + \"Karachi\")\n",
    "\n",
    "# print(\"4\" * 4)"
   ]
  },
  {
   "cell_type": "code",
   "execution_count": 32,
   "id": "ea4260a9-caf2-41a5-8e7d-6337725e79fc",
   "metadata": {},
   "outputs": [
    {
     "name": "stdout",
     "output_type": "stream",
     "text": [
      "Pakistan\n",
      "Pakistan\n",
      "Pakistan\n",
      "Pakistan\n",
      "Pakistan\n",
      "Pakistan\n",
      "Pakistan\n",
      "Pakistan\n",
      "Pakistan\n",
      "Pakistan\n",
      "Pakistan\n",
      "Pakistan\n",
      "Pakistan\n",
      "Pakistan\n",
      "Pakistan\n",
      "Pakistan\n",
      "Pakistan\n",
      "Pakistan\n",
      "Pakistan\n",
      "Pakistan\n",
      "Pakistan\n",
      "Pakistan\n",
      "Pakistan\n",
      "Pakistan\n",
      "Pakistan\n",
      "Pakistan\n",
      "Pakistan\n",
      "Pakistan\n",
      "Pakistan\n",
      "Pakistan\n",
      "Pakistan\n",
      "Pakistan\n",
      "Pakistan\n",
      "Pakistan\n",
      "Pakistan\n",
      "Pakistan\n",
      "Pakistan\n",
      "Pakistan\n",
      "Pakistan\n",
      "Pakistan\n",
      "Pakistan\n",
      "Pakistan\n",
      "Pakistan\n",
      "Pakistan\n",
      "Pakistan\n",
      "Pakistan\n",
      "Pakistan\n",
      "Pakistan\n",
      "Pakistan\n",
      "Pakistan\n",
      "Pakistan\n",
      "Pakistan\n",
      "Pakistan\n",
      "Pakistan\n",
      "Pakistan\n",
      "Pakistan\n",
      "Pakistan\n",
      "Pakistan\n",
      "Pakistan\n",
      "Pakistan\n",
      "Pakistan\n",
      "Pakistan\n",
      "Pakistan\n",
      "Pakistan\n",
      "Pakistan\n",
      "Pakistan\n",
      "Pakistan\n",
      "Pakistan\n",
      "Pakistan\n",
      "Pakistan\n",
      "Pakistan\n",
      "Pakistan\n",
      "Pakistan\n",
      "Pakistan\n",
      "Pakistan\n",
      "Pakistan\n",
      "Pakistan\n",
      "Pakistan\n",
      "Pakistan\n",
      "Pakistan\n",
      "Pakistan\n",
      "Pakistan\n",
      "Pakistan\n",
      "Pakistan\n",
      "Pakistan\n",
      "Pakistan\n",
      "Pakistan\n",
      "Pakistan\n",
      "Pakistan\n",
      "Pakistan\n",
      "Pakistan\n",
      "Pakistan\n",
      "Pakistan\n",
      "Pakistan\n",
      "Pakistan\n",
      "Pakistan\n",
      "Pakistan\n",
      "Pakistan\n",
      "Pakistan\n",
      "Pakistan\n",
      "\n"
     ]
    }
   ],
   "source": [
    "print(\"Pakistan\\n\" * 100)"
   ]
  },
  {
   "cell_type": "code",
   "execution_count": 2,
   "id": "05cd94e6-6c62-4382-a757-debd1750b58e",
   "metadata": {},
   "outputs": [
    {
     "name": "stdout",
     "output_type": "stream",
     "text": [
      "<class 'str'>\n"
     ]
    }
   ],
   "source": [
    "a = \"Karachi\"\n",
    "b = 'Lahore'\n",
    "\n",
    "print(type(b))"
   ]
  },
  {
   "cell_type": "code",
   "execution_count": 5,
   "id": "6c475947-98fe-4485-8120-5926e2b36bcb",
   "metadata": {},
   "outputs": [
    {
     "name": "stdout",
     "output_type": "stream",
     "text": [
      "Quaid-e-Azam said, \"Never Give up.\"\n",
      "This is Arshad's pen.\n",
      "I am Pakistani.\n"
     ]
    }
   ],
   "source": [
    "x = 'Quaid-e-Azam said, \"Never Give up.\"'\n",
    "y = \"This is Arshad's pen.\"\n",
    "a = str(4)\n",
    "z = '''Quaid-e-Azam said, \"Never Give up.\"\n",
    "This is Arshad's pen.\n",
    "I am Pakistani.'''\n",
    "\n",
    "print(x)"
   ]
  },
  {
   "cell_type": "code",
   "execution_count": 31,
   "id": "a47ce787-568c-44ad-a815-163bfb9e042b",
   "metadata": {},
   "outputs": [
    {
     "name": "stdout",
     "output_type": "stream",
     "text": [
      "-diauQ\n"
     ]
    }
   ],
   "source": [
    "# String is an iterable data structure\n",
    "z = '''Quaid-e-Azam said, \"Never Give up.\"\n",
    "This is Arshad's pen.\n",
    "I am Pakistani.'''\n",
    "# print(z[])\n",
    "print(z[5::-1])"
   ]
  },
  {
   "cell_type": "code",
   "execution_count": 33,
   "id": "9ecea6b0-b50a-4505-b514-5a2c837fdc75",
   "metadata": {},
   "outputs": [
    {
     "name": "stdin",
     "output_type": "stream",
     "text": [
      "Give me your name and I will give you the reverse of it:  ANAS\n"
     ]
    },
    {
     "name": "stdout",
     "output_type": "stream",
     "text": [
      "The reverse of ANAS is SANA\n"
     ]
    }
   ],
   "source": [
    "name = input(\"Give me your name and I will give you the reverse of it: \")\n",
    "\n",
    "print(f\"The reverse of {name} is {name[::-1]}\")"
   ]
  },
  {
   "cell_type": "code",
   "execution_count": 36,
   "id": "ec464ef7-84a5-4f43-9202-ad610ad3c86f",
   "metadata": {},
   "outputs": [
    {
     "name": "stdout",
     "output_type": "stream",
     "text": [
      "The word LIGHT is palindrome of THGIL\n"
     ]
    }
   ],
   "source": [
    "pal = \"LIGHT\"\n",
    "st = pal[::-1]\n",
    "\n",
    "print(f\"The word {pal} is palindrome of {st}\")"
   ]
  },
  {
   "cell_type": "code",
   "execution_count": 4,
   "id": "e05bbad9-47db-4af3-af43-3addcdfdd996",
   "metadata": {},
   "outputs": [
    {
     "name": "stdout",
     "output_type": "stream",
     "text": [
      "<class 'float'>\n"
     ]
    }
   ],
   "source": [
    "a = \"17\"\n",
    "b = 12\n",
    "c = 2.3\n",
    "\n",
    "print(type(c))"
   ]
  },
  {
   "cell_type": "code",
   "execution_count": 13,
   "id": "973a3c39-bfa6-4a00-8749-45379776e07e",
   "metadata": {},
   "outputs": [
    {
     "name": "stdout",
     "output_type": "stream",
     "text": [
      "<class 'float'>\n"
     ]
    }
   ],
   "source": [
    "a = 4.1\n",
    "b = 2.0\n",
    "\n",
    "print(type(b))"
   ]
  },
  {
   "cell_type": "code",
   "execution_count": 17,
   "id": "180a03a4-2976-4e6c-87c9-3ae476cc686a",
   "metadata": {},
   "outputs": [
    {
     "name": "stdin",
     "output_type": "stream",
     "text": [
      "Give me 1st number:  5\n",
      "Give me 2nd number:  3\n"
     ]
    },
    {
     "name": "stdout",
     "output_type": "stream",
     "text": [
      "<class 'str'> <class 'str'>\n"
     ]
    }
   ],
   "source": [
    "num1 = input(\"Give me 1st number: \")\n",
    "num2 = input(\"Give me 2nd number: \")\n",
    "\n",
    "print(f\"The Sum of {num1} and {num2} is {num1 + num2}\")\n",
    "print(f\"The Subtraction of {num1} and {num2} is {num1 - num2}\")\n",
    "print(f\"The Multiplication of {num1} and {num2} is {num1 * num2}\")\n",
    "print(f\"The Division of {num1} and {num2} is {num1 / num2}\")"
   ]
  },
  {
   "cell_type": "code",
   "execution_count": 27,
   "id": "5dd03f4c-cdf3-45ad-94d2-71139995c122",
   "metadata": {},
   "outputs": [
    {
     "name": "stdout",
     "output_type": "stream",
     "text": [
      "4\n",
      "<class 'str'>\n"
     ]
    }
   ],
   "source": [
    "a = float(\"2.8\")\n",
    "b = str(45)\n",
    "c = str(1.2)\n",
    "x = int(a) + 2\n",
    "\n",
    "print(x)\n",
    "print(type(c))"
   ]
  },
  {
   "cell_type": "code",
   "execution_count": 29,
   "id": "7954fc9c-3601-4455-9810-8079216aaa9e",
   "metadata": {},
   "outputs": [
    {
     "name": "stdout",
     "output_type": "stream",
     "text": [
      "5.0\n"
     ]
    }
   ],
   "source": [
    "# a = 2.8\n",
    "# b = int(a)\n",
    "a = 5\n",
    "b = float(a)\n",
    "print(b)"
   ]
  },
  {
   "cell_type": "code",
   "execution_count": 35,
   "id": "fab70757-2cf7-4a60-87ca-421275b09d5d",
   "metadata": {},
   "outputs": [
    {
     "name": "stdout",
     "output_type": "stream",
     "text": [
      "2.0\n"
     ]
    }
   ],
   "source": [
    "a = (float(\"2\"))\n",
    "print(a)"
   ]
  },
  {
   "cell_type": "code",
   "execution_count": 38,
   "id": "92f184f8-adc3-4e22-af1b-a3bb602b3392",
   "metadata": {},
   "outputs": [
    {
     "name": "stdout",
     "output_type": "stream",
     "text": [
      "9.2\n"
     ]
    }
   ],
   "source": [
    "a = \"11\"\n",
    "b = int(a)\n",
    "c = int(2.6)\n",
    "d = b\n",
    "b = 7.2\n",
    "\n",
    "print(b + d)"
   ]
  },
  {
   "cell_type": "code",
   "execution_count": 39,
   "id": "ace37963-f036-41ea-87b3-6ee9a671b3c2",
   "metadata": {},
   "outputs": [
    {
     "name": "stdin",
     "output_type": "stream",
     "text": [
      "Give me 1st number:  5\n",
      "Give me 2nd number:  2\n"
     ]
    },
    {
     "name": "stdout",
     "output_type": "stream",
     "text": [
      "The Sum of 5 and 2 is 7\n",
      "The Subtraction of 5 and 2 is 3\n",
      "The Multiplication of 5 and 2 is 10\n",
      "The Division of 5 and 2 is 2.5\n"
     ]
    }
   ],
   "source": [
    "num1 = int(input(\"Give me 1st number: \"))\n",
    "num2 = int(input(\"Give me 2nd number: \"))\n",
    "\n",
    "print(f\"The Sum of {num1} and {num2} is {num1 + num2}\")\n",
    "print(f\"The Subtraction of {num1} and {num2} is {num1 - num2}\")\n",
    "print(f\"The Multiplication of {num1} and {num2} is {num1 * num2}\")\n",
    "print(f\"The Division of {num1} and {num2} is {num1 / num2}\")"
   ]
  },
  {
   "cell_type": "code",
   "execution_count": 40,
   "id": "3f1951a9-36f4-4bd9-b91b-7d78bba21b83",
   "metadata": {},
   "outputs": [
    {
     "name": "stdin",
     "output_type": "stream",
     "text": [
      "What's the width 100\n",
      "What's the length 20\n"
     ]
    },
    {
     "name": "stdout",
     "output_type": "stream",
     "text": [
      "The area is 2000\n"
     ]
    }
   ],
   "source": [
    "width = int(input(\"What's the width\"))\n",
    "length = int(input(\"What's the length\"))\n",
    "area = width * length\n",
    "\n",
    "print(f\"The area is {area}\")"
   ]
  },
  {
   "cell_type": "code",
   "execution_count": 45,
   "id": "e478c978-3a16-44d7-87b0-0ae5e4021f6b",
   "metadata": {},
   "outputs": [
    {
     "name": "stdin",
     "output_type": "stream",
     "text": [
      "What's your age:  20\n"
     ]
    },
    {
     "name": "stdout",
     "output_type": "stream",
     "text": [
      "You will be 100 years old in 2105\n"
     ]
    }
   ],
   "source": [
    "age = int(input(\"What's your age: \"))\n",
    "\n",
    "year = 2025 - age + 100\n",
    "\n",
    "print(f\"You will be 100 years old in {year}\")"
   ]
  },
  {
   "cell_type": "code",
   "execution_count": 48,
   "id": "f5cf6a64-e5fd-48fd-9d45-26a80522718e",
   "metadata": {},
   "outputs": [
    {
     "name": "stdin",
     "output_type": "stream",
     "text": [
      "What's your a:  2\n",
      "What's your b:  4\n"
     ]
    },
    {
     "name": "stdout",
     "output_type": "stream",
     "text": [
      "The Answer is 36\n"
     ]
    }
   ],
   "source": [
    "a = int(input(\"What's your a: \"))\n",
    "b = int(input(\"What's your b: \"))\n",
    "\n",
    "formula = a**2 + b**2 + 2*a*b\n",
    "\n",
    "print(f\"The Answer is {formula}\")"
   ]
  },
  {
   "cell_type": "markdown",
   "id": "6f4edf02-abee-4653-b507-99362be14bd9",
   "metadata": {},
   "source": [
    "## Home task\n",
    "* Ask Temprature in Celsius and Convert it into Fahrenheit\n",
    "* Ask The User Weight and Height and Calculate its BMI"
   ]
  },
  {
   "cell_type": "markdown",
   "id": "2fafbcfe-7750-4854-bcbf-8d12b4115c8e",
   "metadata": {},
   "source": [
    "## Operators and precedence of operators left"
   ]
  },
  {
   "cell_type": "code",
   "execution_count": 2,
   "id": "3ad5094a-eba8-493a-85d5-b057685f4a7f",
   "metadata": {},
   "outputs": [
    {
     "name": "stdin",
     "output_type": "stream",
     "text": [
      "Give me 1st profit:  500\n",
      "Give me 2nd profit:  200\n"
     ]
    },
    {
     "name": "stdout",
     "output_type": "stream",
     "text": [
      "The profit to each is 350.0\n"
     ]
    }
   ],
   "source": [
    "day1 = int(input(\"Give me 1st profit: \"))\n",
    "day2 = int(input(\"Give me 2nd profit: \"))\n",
    "\n",
    "profit = (day1 + day2) / 2 \n",
    "\n",
    "print(f\"The profit to each is {profit}\")"
   ]
  },
  {
   "cell_type": "code",
   "execution_count": 4,
   "id": "b0ce0b5d-3923-424a-9432-7a90f9f61859",
   "metadata": {},
   "outputs": [
    {
     "name": "stdin",
     "output_type": "stream",
     "text": [
      "Enter temperature in Celsius:  37.558484\n"
     ]
    },
    {
     "name": "stdout",
     "output_type": "stream",
     "text": [
      "Temperature in Fahrenheit: 99.61°F\n"
     ]
    }
   ],
   "source": [
    "celsius = float(input(\"Enter temperature in Celsius: \"))\n",
    "fahrenheit = (celsius * 9/5) + 32\n",
    "\n",
    "print(f\"Temperature in Fahrenheit: {fahrenheit:.2f}°F\")"
   ]
  },
  {
   "cell_type": "code",
   "execution_count": null,
   "id": "150b6424-1511-495a-886a-51e8ad4b5ba9",
   "metadata": {},
   "outputs": [],
   "source": [
    "weight = float(input(\"Enter your weight in kilograms: \"))\n",
    "height = float(input(\"Enter your height in meters: \"))\n",
    "\n",
    "bmi = weight / (height ** 2)\n",
    "print(f\"Your BMI is: {bmi:.2f}\")"
   ]
  },
  {
   "cell_type": "code",
   "execution_count": 9,
   "id": "1ab4b63d-e8aa-4511-866d-c8395358f570",
   "metadata": {},
   "outputs": [
    {
     "name": "stdout",
     "output_type": "stream",
     "text": [
      "Yeh 500 Lines ka code he\n",
      "Yeh 500 Lines ka code he\n",
      "Yeh 500 Lines ka code he\n",
      "Yeh 500 Lines ka code he\n",
      "Yeh 500 Lines ka code he\n"
     ]
    }
   ],
   "source": [
    "for i in range(5):\n",
    "    print(\"Yeh 500 Lines ka code he\")"
   ]
  },
  {
   "cell_type": "code",
   "execution_count": 11,
   "id": "8bdea9e1-8550-4953-9a41-8b6dd4f882b3",
   "metadata": {},
   "outputs": [
    {
     "name": "stdin",
     "output_type": "stream",
     "text": [
      "Enter temperature in Celsius:  45\n"
     ]
    },
    {
     "name": "stdout",
     "output_type": "stream",
     "text": [
      "Temperature in Fahrenheit: 113.00°F\n",
      "-------------------\n",
      "\n"
     ]
    },
    {
     "name": "stdin",
     "output_type": "stream",
     "text": [
      "Enter temperature in Celsius:  84\n"
     ]
    },
    {
     "name": "stdout",
     "output_type": "stream",
     "text": [
      "Temperature in Fahrenheit: 183.20°F\n",
      "-------------------\n",
      "\n"
     ]
    },
    {
     "name": "stdin",
     "output_type": "stream",
     "text": [
      "Enter temperature in Celsius:  841\n"
     ]
    },
    {
     "name": "stdout",
     "output_type": "stream",
     "text": [
      "Temperature in Fahrenheit: 1545.80°F\n",
      "-------------------\n",
      "\n"
     ]
    }
   ],
   "source": [
    "for i in range(3):\n",
    "    celsius = float(input(\"Enter temperature in Celsius: \"))\n",
    "    fahrenheit = (celsius * 9/5) + 32\n",
    "    \n",
    "    print(f\"Temperature in Fahrenheit: {fahrenheit:.2f}°F\\n-------------------\\n\")"
   ]
  },
  {
   "cell_type": "code",
   "execution_count": 19,
   "id": "71b90631-e2ab-4e5e-848a-1123938189b5",
   "metadata": {},
   "outputs": [
    {
     "name": "stdout",
     "output_type": "stream",
     "text": [
      "2 x 1 = 2\n",
      "2 x 2 = 4\n",
      "2 x 3 = 6\n",
      "2 x 4 = 8\n",
      "2 x 5 = 10\n",
      "2 x 6 = 12\n",
      "2 x 7 = 14\n",
      "2 x 8 = 16\n",
      "2 x 9 = 18\n",
      "2 x 10 = 20\n"
     ]
    }
   ],
   "source": [
    "\"2 x 1 = 2\"\n",
    "for i in range(1, 11):\n",
    "    print(f\"2 x {i} = {2*i}\")"
   ]
  },
  {
   "cell_type": "markdown",
   "id": "1b0be34f-6cbf-482f-b447-854653763685",
   "metadata": {},
   "source": [
    "### Home Task\n",
    "* Ask the User number of table and till where he wants and print the entire table"
   ]
  },
  {
   "cell_type": "code",
   "execution_count": 3,
   "id": "6528a427-0bec-4d94-b084-4441f1633912",
   "metadata": {},
   "outputs": [
    {
     "name": "stdin",
     "output_type": "stream",
     "text": [
      "Which number of table do you want:  50\n",
      "Till where you want:  6\n"
     ]
    },
    {
     "name": "stdout",
     "output_type": "stream",
     "text": [
      "50 x 1 = 50\n",
      "50 x 2 = 100\n",
      "50 x 3 = 150\n",
      "50 x 4 = 200\n",
      "50 x 5 = 250\n"
     ]
    }
   ],
   "source": [
    "num = int(input(\"Which number of table do you want: \"))\n",
    "til = int(input(\"Till where you want: \"))\n",
    "\n",
    "for i in range(1, til+1):\n",
    "    print(f\"{num} x {i} = {num*i}\")"
   ]
  },
  {
   "cell_type": "code",
   "execution_count": 16,
   "id": "d4a830b1-3de3-4fb1-b965-092bb61634bb",
   "metadata": {},
   "outputs": [
    {
     "name": "stdout",
     "output_type": "stream",
     "text": [
      "0\n",
      "2\n",
      "4\n",
      "6\n",
      "8\n",
      "10\n",
      "12\n",
      "14\n",
      "16\n",
      "18\n",
      "20\n"
     ]
    }
   ],
   "source": [
    "for i in range(0, 21, 2):\n",
    "    print(i)"
   ]
  },
  {
   "cell_type": "code",
   "execution_count": 20,
   "id": "86fa1c47-f314-426b-bc69-dd7540d8e0ba",
   "metadata": {},
   "outputs": [
    {
     "name": "stdout",
     "output_type": "stream",
     "text": [
      "9\n",
      "8\n",
      "7\n",
      "6\n",
      "5\n",
      "4\n",
      "3\n",
      "2\n",
      "1\n"
     ]
    }
   ],
   "source": [
    "for i in range(9, 0, -1):\n",
    "    print(i)"
   ]
  },
  {
   "cell_type": "code",
   "execution_count": 22,
   "id": "1d9f8340-5267-4da6-92d2-e84dbadd68b7",
   "metadata": {},
   "outputs": [
    {
     "name": "stdout",
     "output_type": "stream",
     "text": [
      "i is  T\n",
      "i is  h\n",
      "i is  i\n",
      "i is  s\n",
      "i is   \n",
      "i is  i\n",
      "i is  s\n",
      "i is   \n",
      "i is  A\n",
      "i is  r\n",
      "i is  s\n",
      "i is  h\n",
      "i is  a\n",
      "i is  d\n",
      "i is  '\n",
      "i is  s\n",
      "i is   \n",
      "i is  p\n",
      "i is  e\n",
      "i is  n\n",
      "i is  .\n"
     ]
    }
   ],
   "source": [
    "y = \"This is Arshad's pen.\"\n",
    "\n",
    "for i in y:\n",
    "    print(\"i is \", i)"
   ]
  },
  {
   "cell_type": "code",
   "execution_count": 24,
   "id": "d4973237-e7f4-46bc-abe0-23431a218fcc",
   "metadata": {},
   "outputs": [
    {
     "name": "stdout",
     "output_type": "stream",
     "text": [
      "8\n"
     ]
    }
   ],
   "source": [
    "a = 2\n",
    "\n",
    "a = a  * 4\n",
    "print(a)"
   ]
  },
  {
   "cell_type": "code",
   "execution_count": 30,
   "id": "5cfd016e-6293-465b-9fa8-39d40e0fdba2",
   "metadata": {},
   "outputs": [
    {
     "name": "stdin",
     "output_type": "stream",
     "text": [
      "Which number of factorial do you want:  2\n"
     ]
    },
    {
     "name": "stdout",
     "output_type": "stream",
     "text": [
      "The factorial of 2! is 2\n"
     ]
    }
   ],
   "source": [
    "n = int(input(\"Which number of factorial do you want: \"))\n",
    "fact = 1\n",
    "\n",
    "for i in range(1, n+1):\n",
    "    fact *= i\n",
    "\n",
    "print(f\"The factorial of {n}! is {fact}\")"
   ]
  },
  {
   "cell_type": "code",
   "execution_count": 35,
   "id": "b42ca643-659e-4b5f-b138-142383333e5f",
   "metadata": {},
   "outputs": [
    {
     "name": "stdout",
     "output_type": "stream",
     "text": [
      "0.6666666666666666\n"
     ]
    }
   ],
   "source": [
    "a = 2\n",
    "# a = a + 2\n",
    "a /= 3\n",
    "\n",
    "print(a)"
   ]
  },
  {
   "cell_type": "code",
   "execution_count": 38,
   "id": "2b389ada-53df-4365-83d3-f58b8c613d18",
   "metadata": {},
   "outputs": [
    {
     "name": "stdout",
     "output_type": "stream",
     "text": [
      "1 0\n",
      "2 0\n",
      "2 1\n"
     ]
    }
   ],
   "source": [
    "for i in range(3):\n",
    "    for j in range(i):\n",
    "        print(i, j)"
   ]
  },
  {
   "cell_type": "code",
   "execution_count": 39,
   "id": "4d51e693-4670-4c44-9860-be94ca63676f",
   "metadata": {},
   "outputs": [
    {
     "data": {
      "text/plain": [
       "2197"
      ]
     },
     "execution_count": 39,
     "metadata": {},
     "output_type": "execute_result"
    }
   ],
   "source": [
    "13**3"
   ]
  },
  {
   "cell_type": "markdown",
   "id": "3dca1055-07fa-471e-8853-4f894d450c37",
   "metadata": {},
   "source": [
    "### Home Task\n",
    "* Take an input from the user and show the reverse factorial of each number\n",
    "e.g.\n",
    "\n",
    "* 5! 120\n",
    "* 4! 24\n",
    "* 3! 6"
   ]
  },
  {
   "cell_type": "code",
   "execution_count": 5,
   "id": "64d8125d-a9b4-4bf4-a787-cf7a66aab8e6",
   "metadata": {},
   "outputs": [
    {
     "name": "stdin",
     "output_type": "stream",
     "text": [
      "Which number of factorial do you want:  6\n"
     ]
    },
    {
     "name": "stdout",
     "output_type": "stream",
     "text": [
      "The Factorial of 6! is 720\n",
      "The Factorial of 5! is 120\n",
      "The Factorial of 4! is 24\n",
      "The Factorial of 3! is 6\n",
      "The Factorial of 2! is 2\n",
      "The Factorial of 1! is 1\n"
     ]
    }
   ],
   "source": [
    "n =int(input(\"Which number of factorial do you want: \"))\n",
    "fact = 1\n",
    "\n",
    "for i in range(1, n + 1):\n",
    "    fact *= i\n",
    "\n",
    "for i in range(n, 0, -1):\n",
    "    print(f\"The Factorial of {i}! is {int(fact)}\")\n",
    "    fact /= i"
   ]
  },
  {
   "cell_type": "code",
   "execution_count": 38,
   "id": "ffed0242-5378-45e0-b2d0-652c93ee8d5c",
   "metadata": {},
   "outputs": [
    {
     "name": "stdout",
     "output_type": "stream",
     "text": [
      "720\n",
      "120\n",
      "24\n",
      "6\n",
      "2\n",
      "1\n"
     ]
    }
   ],
   "source": [
    "n = 6\n",
    "\n",
    "for i in range(n, 0, -1):\n",
    "    fact = 1\n",
    "    for j in range(1, i+1):\n",
    "        fact *= j\n",
    "    print(fact)"
   ]
  },
  {
   "cell_type": "code",
   "execution_count": 9,
   "id": "67fcd6f3-9a47-4d3b-becf-1cd521930b63",
   "metadata": {},
   "outputs": [
    {
     "name": "stdin",
     "output_type": "stream",
     "text": [
      "Which number of factorial do you want:  -4\n"
     ]
    },
    {
     "name": "stdout",
     "output_type": "stream",
     "text": [
      "The factorial of -4! is 1\n"
     ]
    }
   ],
   "source": [
    "n = int(input(\"Which number of factorial do you want: \"))\n",
    "fact = 1\n",
    "\n",
    "for i in range(1, n+1):\n",
    "    fact *= i\n",
    "\n",
    "print(f\"The factorial of {n}! is {fact}\")"
   ]
  },
  {
   "cell_type": "code",
   "execution_count": 19,
   "id": "5ed372a1-ffc6-486b-9089-e7416537568a",
   "metadata": {},
   "outputs": [
    {
     "name": "stdin",
     "output_type": "stream",
     "text": [
      "What's your marks:  49.5\n"
     ]
    },
    {
     "ename": "ValueError",
     "evalue": "invalid literal for int() with base 10: '49.5'",
     "output_type": "error",
     "traceback": [
      "\u001b[1;31m---------------------------------------------------------------------------\u001b[0m",
      "\u001b[1;31mValueError\u001b[0m                                Traceback (most recent call last)",
      "Cell \u001b[1;32mIn[19], line 1\u001b[0m\n\u001b[1;32m----> 1\u001b[0m marks \u001b[38;5;241m=\u001b[39m \u001b[38;5;28mint\u001b[39m(\u001b[38;5;28minput\u001b[39m(\u001b[38;5;124m\"\u001b[39m\u001b[38;5;124mWhat\u001b[39m\u001b[38;5;124m'\u001b[39m\u001b[38;5;124ms your marks: \u001b[39m\u001b[38;5;124m\"\u001b[39m))\n\u001b[0;32m      3\u001b[0m \u001b[38;5;28;01mif\u001b[39;00m marks \u001b[38;5;241m>\u001b[39m \u001b[38;5;241m49\u001b[39m:\n\u001b[0;32m      4\u001b[0m     \u001b[38;5;28mprint\u001b[39m(\u001b[38;5;124m\"\u001b[39m\u001b[38;5;124mYou are Pass, Mubarak HO!!\u001b[39m\u001b[38;5;124m\"\u001b[39m)\n",
      "\u001b[1;31mValueError\u001b[0m: invalid literal for int() with base 10: '49.5'"
     ]
    }
   ],
   "source": [
    "marks = int(input(\"What's your marks: \"))\n",
    "\n",
    "if marks >= 50:\n",
    "    print(\"You are Pass, Mubarak HO!!\")\n",
    "else:\n",
    "    print(\"You are Failed, Mehnat KRO!!\")\n",
    "    "
   ]
  },
  {
   "cell_type": "code",
   "execution_count": 28,
   "id": "43e6d97d-c283-4cb8-a0b8-1bd5edcebb42",
   "metadata": {},
   "outputs": [
    {
     "name": "stdout",
     "output_type": "stream",
     "text": [
      "False\n"
     ]
    }
   ],
   "source": [
    "print(2 >= 7)"
   ]
  },
  {
   "cell_type": "code",
   "execution_count": 33,
   "id": "b3b144f2-4b60-41cb-b335-0b94f1e4f9b0",
   "metadata": {},
   "outputs": [
    {
     "name": "stdin",
     "output_type": "stream",
     "text": [
      "What's your age:  18\n"
     ]
    },
    {
     "name": "stdout",
     "output_type": "stream",
     "text": [
      "Allow nhi he!!\n"
     ]
    }
   ],
   "source": [
    "age = int(input(\"What's your age: \"))\n",
    "\n",
    "if age != 18 :\n",
    "    print(\"Allow He!!\")\n",
    "else:\n",
    "    print(\"Allow nhi he!!\")"
   ]
  },
  {
   "cell_type": "code",
   "execution_count": 37,
   "id": "3fd10094-1a8c-4794-804f-45c2fdaf7a76",
   "metadata": {},
   "outputs": [
    {
     "name": "stdin",
     "output_type": "stream",
     "text": [
      "Give me a number:  84574\n"
     ]
    },
    {
     "name": "stdout",
     "output_type": "stream",
     "text": [
      "This is EVEN\n"
     ]
    }
   ],
   "source": [
    "num = int(input(\"Give me a number: \"))\n",
    "\n",
    "if num % 2 != 0:\n",
    "    print(\"This is ODD\")\n",
    "else:\n",
    "    print(\"This is EVEN\")\n",
    "    "
   ]
  },
  {
   "cell_type": "code",
   "execution_count": 3,
   "id": "ca26d270-1a6c-4f5b-93a7-b5cda64e7500",
   "metadata": {},
   "outputs": [
    {
     "name": "stdin",
     "output_type": "stream",
     "text": [
      "What's your english Marks:  51\n",
      "What's your Math Marks:  52\n",
      "What's your Urdu Marks:  65\n"
     ]
    },
    {
     "name": "stdout",
     "output_type": "stream",
     "text": [
      "---------------------\n",
      "Your marks are 168\n",
      "Percentage is 56.00%\n",
      "Your grade is C\n"
     ]
    }
   ],
   "source": [
    "eng = int(input(\"What's your english Marks: \"))\n",
    "mat = int(input(\"What's your Math Marks: \"))\n",
    "urd = int(input(\"What's your Urdu Marks: \"))\n",
    "\n",
    "obt_marks = eng + mat + urd\n",
    "percentage = obt_marks / 300 * 100\n",
    "\n",
    "print(f\"---------------------\\nYour marks are {obt_marks}\\nPercentage is {percentage:.2f}%\")\n",
    "\n",
    "if eng < 50 or mat < 50 or urd < 50:\n",
    "    print(\"You are Failed, Thats Why Grade is not applicable\")\n",
    "else:\n",
    "    print(\"You are Pass\")\n",
    "    if percentage >= 80 and percentage <=100:\n",
    "        print(\"Your grade is A+\")\n",
    "    elif percentage >= 70 and percentage <80:\n",
    "        print(\"Your grade is A\")\n",
    "    elif percentage >= 60 and percentage <70:\n",
    "        print(\"Your grade is B\")\n",
    "    elif percentage >= 50 and percentage <60:\n",
    "        print(\"Your grade is C\")\n",
    "    elif percentage >=0 and percentage <50:\n",
    "        print(\"You are Failed\")\n",
    "    else:\n",
    "        print(\"Invalid Value of Percentage\")"
   ]
  },
  {
   "cell_type": "markdown",
   "id": "0aeeae84-f1e1-439d-bb6c-6f53ddd2ad8d",
   "metadata": {},
   "source": [
    "### Home Task\n",
    "1. Take a string input from user and count the 'a's in it or a particular character.\n",
    "2. Correct the Marksheet as if a student fails in a subject it should show Fail."
   ]
  },
  {
   "cell_type": "code",
   "execution_count": 46,
   "id": "23e36c7c-90bb-4fac-a175-1d4dead05246",
   "metadata": {},
   "outputs": [
    {
     "name": "stdin",
     "output_type": "stream",
     "text": [
      "What's your english Marks:  25\n",
      "What's your Math Marks:  48\n",
      "What's your Urdu Marks:  110\n"
     ]
    },
    {
     "name": "stdout",
     "output_type": "stream",
     "text": [
      "Marks are Exceeding\n"
     ]
    }
   ],
   "source": [
    "eng = int(input(\"What's your english Marks: \"))\n",
    "mat = int(input(\"What's your Math Marks: \"))\n",
    "urd = int(input(\"What's your Urdu Marks: \"))\n",
    "\n",
    "if eng > 100 or mat > 100 or urd > 100:\n",
    "    print(\"Marks are Exceeding\")\n",
    "else:\n",
    "    print(\"Okay he sb kuch\")"
   ]
  },
  {
   "cell_type": "code",
   "execution_count": 16,
   "id": "12811834-671f-41d9-bae3-18b7ed72316e",
   "metadata": {},
   "outputs": [
    {
     "name": "stdin",
     "output_type": "stream",
     "text": [
      "Give me a String:  ABC\n"
     ]
    },
    {
     "name": "stdout",
     "output_type": "stream",
     "text": [
      "abc\n"
     ]
    },
    {
     "name": "stdin",
     "output_type": "stream",
     "text": [
      "Give me a character you want to find:  a\n"
     ]
    },
    {
     "name": "stdout",
     "output_type": "stream",
     "text": [
      "a a\n",
      "b a\n",
      "c a\n",
      "There are 1 a's in abc\n"
     ]
    }
   ],
   "source": [
    "a = input(\"Give me a String: \").lower()\n",
    "print(a)\n",
    "character = input(\"Give me a character you want to find: \")\n",
    "count = 0\n",
    "for i in a:\n",
    "    print(i.lower(), character.lower())\n",
    "    if i.lower() == character.lower():\n",
    "        count += 1\n",
    "        \n",
    "print(f\"There are {count} {character}'s in {a}\")"
   ]
  },
  {
   "cell_type": "code",
   "execution_count": 44,
   "id": "70b7b61a-7c66-4b24-9fc9-8d54997229e1",
   "metadata": {},
   "outputs": [
    {
     "name": "stdout",
     "output_type": "stream",
     "text": [
      " aMJAD aZIZ \n"
     ]
    }
   ],
   "source": [
    "a = \"My name is Amjad Aziz. I am student of AI. I work as a Data Analyst.\"\n",
    "x = \" Amjad Aziz \"\n",
    "b = \" abc@gmail.com \"\n",
    "y = x.swapcase()\n",
    "# y = a.title()\n",
    "# y = a.lower().count(\"A\".lower())\n",
    "# print(a.upper())\n",
    "# print(a.lower())\n",
    "# print(a.capitalize())\n",
    "# print(b.strip())\n",
    "# print(y)\n",
    "# print(len(x))\n",
    "# y = a.find(\"k\")\n",
    "# y = a.replace(\"Amjad\", \"Arshad\")\n",
    "# y = a.split(\".\")\n",
    "\n",
    "print(y)"
   ]
  },
  {
   "cell_type": "code",
   "execution_count": 60,
   "id": "4a61d58b-a7ba-4ec8-8857-da9ad259b15a",
   "metadata": {},
   "outputs": [
    {
     "name": "stdout",
     "output_type": "stream",
     "text": [
      "Pakistan came into being on 14 august 1947 its is my country \n"
     ]
    }
   ],
   "source": [
    "x = \" pakistan  Came into being   on 14   August 1947.Its is my   country.\"\n",
    "z = \" \".join(x.strip().split()).split(\".\")\n",
    "z = \" \".join(z).lower().capitalize()\n",
    "# z[42].append()\n",
    "print(z)\n",
    "# print(z.find(\"7\"))"
   ]
  },
  {
   "cell_type": "code",
   "execution_count": 62,
   "id": "c774bd95-ee08-4a82-8c41-46c7fc25714f",
   "metadata": {},
   "outputs": [
    {
     "name": "stdout",
     "output_type": "stream",
     "text": [
      "amjad\n"
     ]
    }
   ],
   "source": [
    "a = \"Amjad\"\n",
    "\n",
    "print(a.lower())"
   ]
  }
 ],
 "metadata": {
  "kernelspec": {
   "display_name": "Python [conda env:base] *",
   "language": "python",
   "name": "conda-base-py"
  },
  "language_info": {
   "codemirror_mode": {
    "name": "ipython",
    "version": 3
   },
   "file_extension": ".py",
   "mimetype": "text/x-python",
   "name": "python",
   "nbconvert_exporter": "python",
   "pygments_lexer": "ipython3",
   "version": "3.13.5"
  }
 },
 "nbformat": 4,
 "nbformat_minor": 5
}
